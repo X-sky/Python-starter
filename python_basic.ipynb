{
 "cells": [
  {
   "cell_type": "code",
   "execution_count": 2,
   "metadata": {},
   "outputs": [
    {
     "name": "stdout",
     "output_type": "stream",
     "text": [
      "Hello Python variable\n",
      "See U Later!\n"
     ]
    }
   ],
   "source": [
    "message = \"Hello Python variable\"\n",
    "print(message)\n",
    "message = \"See U Later!\"\n",
    "print(message)"
   ]
  },
  {
   "cell_type": "markdown",
   "metadata": {},
   "source": [
    "# Python基础\n",
    "\n",
    "变量规则：\n",
    "1. 只能包含字母数字下划线（区分js可以以下划线和dollar符作为变量名）\n",
    "2. 关键词不能作为变量名\n",
    "3. python中欸有常量的语法概念。只有约定写法"
   ]
  },
  {
   "cell_type": "markdown",
   "metadata": {},
   "source": [
    "## string\n",
    "### 一些常用的方法\n",
    "#### 修改大小写\n",
    "- `title` / `capitalize`\n",
    "- `upper` / `lower`"
   ]
  },
  {
   "cell_type": "code",
   "execution_count": 5,
   "metadata": {},
   "outputs": [
    {
     "name": "stdout",
     "output_type": "stream",
     "text": [
      "Ada Lovelace\n",
      "Ada lovelace\n",
      "ADA LOVELACE\n"
     ]
    }
   ],
   "source": [
    "name=\"ada lovelace\"\n",
    "print(name.title())\n",
    "print(name.capitalize())\n",
    "print(name.upper())"
   ]
  },
  {
   "cell_type": "markdown",
   "metadata": {},
   "source": [
    "#### f字符串(类比js模板字符串)\n",
    "> f字符串仅适用于 3.6+。等效于之前的 `\"{0} {1}\".format(f_name, l_name)`，其中{0}中的0代表需要被替换的args_idx"
   ]
  },
  {
   "cell_type": "code",
   "execution_count": 14,
   "metadata": {},
   "outputs": [
    {
     "name": "stdout",
     "output_type": "stream",
     "text": [
      "full_name: Ada Lovelace\n",
      "before 3.6:  Lovelace Ada\n"
     ]
    }
   ],
   "source": [
    "f_name=\"ada\"\n",
    "l_name=\"lovelace\"\n",
    "full_name=f\"{f_name} {l_name}\"\n",
    "print(\"full_name:\", full_name.title())\n",
    "print(\"before 3.6: \", \"{} {}\".format(f_name, l_name).title())\n"
   ]
  },
  {
   "cell_type": "markdown",
   "metadata": {},
   "source": [
    "#### 删除空白\n",
    "- lstrip / rstrip / strip"
   ]
  },
  {
   "cell_type": "code",
   "execution_count": 17,
   "metadata": {},
   "outputs": [
    {
     "name": "stdout",
     "output_type": "stream",
     "text": [
      "rstrip:  python\n",
      "lstrip: python \n"
     ]
    }
   ],
   "source": [
    "wb_word=' python '\n",
    "print('rstrip:', wb_word.rstrip())\n",
    "print('lstrip:', wb_word.lstrip())"
   ]
  },
  {
   "cell_type": "code",
   "execution_count": 20,
   "metadata": {},
   "outputs": [
    {
     "name": "stdout",
     "output_type": "stream",
     "text": [
      "Rocky once said: \"Let me tell you something you already know. The world ain't all sunshine and rainbows. It's a very mean and nasty place. And I don't care how tough you are, it will beat you to knees and keep you there permanently if you let it! You, me, or nobody is gonna hit as hard as life. But it ain't about how hard you bit. It's about how hard you can get hit and keep moving forward. How much you can take and keep moving forward. That's how winning is done! Now if you know what you're worth, then go out and get what you're worth. But ya gotta be willing to take the hits, and not pointing fingers saying you ain't where you wanna be because of him, or her, or anybody! Cowards do that and that ain't you! You're better than that!\"\n"
     ]
    }
   ],
   "source": [
    "# 小练习：人名quotes\n",
    "name=\"\\tRocky\\n\"\n",
    "quotes=\"Let me tell you something you already know. The world ain't all sunshine and rainbows. It's a very mean and nasty place. And I don't care how tough you are, it will beat you to knees and keep you there permanently if you let it! You, me, or nobody is gonna hit as hard as life. But it ain't about how hard you bit. It's about how hard you can get hit and keep moving forward. How much you can take and keep moving forward. That's how winning is done! Now if you know what you're worth, then go out and get what you're worth. But ya gotta be willing to take the hits, and not pointing fingers saying you ain't where you wanna be because of him, or her, or anybody! Cowards do that and that ain't you! You're better than that!\"\n",
    "print(f'{name.strip().title()} once said: \"{quotes}\"')"
   ]
  },
  {
   "cell_type": "markdown",
   "metadata": {},
   "source": [
    "## number\n",
    "\n",
    "与js不同，python区分整数与浮点数。（js内部，所有数字都是作为浮点数表示）\n",
    "\n",
    "- 任意两个数相除，结果总是浮点数\n",
    "- 其他运算中，其中一方为浮点数，结果也是浮点数\n",
    "\n",
    "> `python` 表述大数时可以用下划线分割，`python` 解析时会全部忽略， `1_0_00`和`1_000`和`1000`在`python`中没有区别。(与f字符串一样，仅3.6+适用)\n",
    "\n",
    "## List\n",
    "与js基本类似，但可以用-1进行访问\n",
    "### 一些常用方法\n",
    "#### 基本操作\n",
    "`append` `insert(i, x)` `extend` `s += t`\n",
    "`pop` `remove` `del`\n",
    "`s[i:j] = t`\n",
    "`sort` `sorted` `reverse`\n",
    "参考[官方文档](https://docs.python.org/3.9/library/stdtypes.html#sequence-types-list-tuple-range)\n",
    "#### "
   ]
  },
  {
   "cell_type": "code",
   "execution_count": 12,
   "metadata": {},
   "outputs": [
    {
     "name": "stdout",
     "output_type": "stream",
     "text": [
      "a\n",
      "b\n",
      "c\n",
      "d\n",
      "e\n"
     ]
    }
   ],
   "source": [
    "list=['a', 'b', 'c', 'd', 'e']\n",
    "for s in list:\n",
    "  print(s)"
   ]
  }
 ],
 "metadata": {
  "kernelspec": {
   "display_name": "base",
   "language": "python",
   "name": "python3"
  },
  "language_info": {
   "codemirror_mode": {
    "name": "ipython",
    "version": 3
   },
   "file_extension": ".py",
   "mimetype": "text/x-python",
   "name": "python",
   "nbconvert_exporter": "python",
   "pygments_lexer": "ipython3",
   "version": "3.9.12"
  }
 },
 "nbformat": 4,
 "nbformat_minor": 2
}
